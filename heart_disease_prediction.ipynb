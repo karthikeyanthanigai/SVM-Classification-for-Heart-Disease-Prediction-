{
  "nbformat": 4,
  "nbformat_minor": 0,
  "metadata": {
    "colab": {
      "name": "heart_disease_prediction",
      "provenance": [],
      "authorship_tag": "ABX9TyMrvQupZkgXSzPUZnsyNghn",
      "include_colab_link": true
    },
    "kernelspec": {
      "name": "python3",
      "display_name": "Python 3"
    }
  },
  "cells": [
    {
      "cell_type": "markdown",
      "metadata": {
        "id": "view-in-github",
        "colab_type": "text"
      },
      "source": [
        "<a href=\"https://colab.research.google.com/github/karthikeyanthanigai/SVM-Classification-for-Heart-Disease-Prediction-/blob/master/heart_disease_prediction.ipynb\" target=\"_parent\"><img src=\"https://colab.research.google.com/assets/colab-badge.svg\" alt=\"Open In Colab\"/></a>"
      ]
    },
    {
      "cell_type": "code",
      "metadata": {
        "id": "oGsoMPzqFoIG",
        "colab_type": "code",
        "colab": {}
      },
      "source": [
        "#Import the Libraries\n",
        "import numpy as np\n",
        "import pandas as pd\n",
        "import matplotlib.pyplot as plt"
      ],
      "execution_count": 0,
      "outputs": []
    },
    {
      "cell_type": "markdown",
      "metadata": {
        "id": "0w-pcAOyGIUy",
        "colab_type": "text"
      },
      "source": [
        "![alt text](https://s3images.coroflot.com/user_files/individual_files/646032_trg45o5so_xctphppesolziyd.jpg)"
      ]
    },
    {
      "cell_type": "code",
      "metadata": {
        "id": "bUBnpPhAFtWC",
        "colab_type": "code",
        "colab": {}
      },
      "source": [
        "#Import the Dataset\n",
        "Dataset = pd.read_csv(\"heart_disease_dataset.csv\")\n",
        "X = Dataset.iloc[:,:-1].values\n",
        "y = Dataset.iloc[:, -1].values\n"
      ],
      "execution_count": 0,
      "outputs": []
    },
    {
      "cell_type": "code",
      "metadata": {
        "id": "fHd5lhnLFtQP",
        "colab_type": "code",
        "colab": {}
      },
      "source": [
        "#Feature scaling the independent variable\n",
        "from sklearn.preprocessing import StandardScaler\n",
        "sc_X = StandardScaler()\n",
        "X = sc_X.fit_transform(X)"
      ],
      "execution_count": 0,
      "outputs": []
    },
    {
      "cell_type": "code",
      "metadata": {
        "id": "lqV6_cJdFtLM",
        "colab_type": "code",
        "colab": {}
      },
      "source": [
        "#Splitting the data into train and test\n",
        "from sklearn.model_selection import train_test_split\n",
        "X_train, X_test, y_train, y_test = train_test_split(X, y, test_size = 0.3, random_state = 32)\n"
      ],
      "execution_count": 0,
      "outputs": []
    },
    {
      "cell_type": "code",
      "metadata": {
        "id": "-N9nMH6_FtGM",
        "colab_type": "code",
        "colab": {
          "base_uri": "https://localhost:8080/",
          "height": 85
        },
        "outputId": "796fe425-3284-425d-b1f6-126f3e55acc6"
      },
      "source": [
        "#SVM Classification model\n",
        "from sklearn.svm import SVC\n",
        "classifier = SVC(C = 10.0, kernel = \"linear\",decision_function_shape='ono')\n",
        "classifier.fit(X_train, y_train)\n"
      ],
      "execution_count": 5,
      "outputs": [
        {
          "output_type": "execute_result",
          "data": {
            "text/plain": [
              "SVC(C=10.0, break_ties=False, cache_size=200, class_weight=None, coef0=0.0,\n",
              "    decision_function_shape='ono', degree=3, gamma='scale', kernel='linear',\n",
              "    max_iter=-1, probability=False, random_state=None, shrinking=True,\n",
              "    tol=0.001, verbose=False)"
            ]
          },
          "metadata": {
            "tags": []
          },
          "execution_count": 5
        }
      ]
    },
    {
      "cell_type": "code",
      "metadata": {
        "id": "FhtEy1IlFtBa",
        "colab_type": "code",
        "colab": {}
      },
      "source": [
        "#Predicting the output for our SGD Linear Model with the test set\n",
        "y_pred = classifier.predict(X_test)\n"
      ],
      "execution_count": 0,
      "outputs": []
    },
    {
      "cell_type": "code",
      "metadata": {
        "id": "sPiok8QIFs8f",
        "colab_type": "code",
        "colab": {
          "base_uri": "https://localhost:8080/",
          "height": 68
        },
        "outputId": "17d3e144-6e07-4138-de2a-87a80fe42acd"
      },
      "source": [
        "#evaluating our model.\n",
        "from sklearn.metrics import confusion_matrix, accuracy_score, f1_score\n",
        "acc_train = accuracy_score(y_train, classifier.predict(X_train))\n",
        "f1_train = f1_score(y_train, classifier.predict(X_train), average= 'weighted')\n",
        "\n",
        "print(\"Traing set results\")\n",
        "print(\"ACCURACY for train set\",acc_train)\n",
        "print(\"F1 SCORE for train set\",f1_train)\n"
      ],
      "execution_count": 7,
      "outputs": [
        {
          "output_type": "stream",
          "text": [
            "Traing set results\n",
            "ACCURACY for train set 0.8254716981132075\n",
            "F1 SCORE for train set 0.8241185809783282\n"
          ],
          "name": "stdout"
        }
      ]
    },
    {
      "cell_type": "code",
      "metadata": {
        "id": "rYbiTItCFs4K",
        "colab_type": "code",
        "colab": {
          "base_uri": "https://localhost:8080/",
          "height": 68
        },
        "outputId": "f3eb24c9-3bd7-4744-a02e-b77f54c8602a"
      },
      "source": [
        "#evaluate our test set\n",
        "acc_test = accuracy_score(y_test, y_pred)\n",
        "f1_test = f1_score(y_test, y_pred, average= 'weighted')\n",
        "\n",
        "print(\"Test set results\")\n",
        "print(\"ACCURACY for test set\",acc_test)\n",
        "print(\"F1 SCORE for test set\",f1_test)"
      ],
      "execution_count": 8,
      "outputs": [
        {
          "output_type": "stream",
          "text": [
            "Test set results\n",
            "ACCURACY for test set 0.7692307692307693\n",
            "F1 SCORE for test set 0.7678203717807678\n"
          ],
          "name": "stdout"
        }
      ]
    },
    {
      "cell_type": "code",
      "metadata": {
        "id": "CzMBXehVFszk",
        "colab_type": "code",
        "colab": {
          "base_uri": "https://localhost:8080/",
          "height": 51
        },
        "outputId": "fd64858f-849e-4ccc-8be8-78b8dd488a3a"
      },
      "source": [
        "#Confusion Matrix \n",
        "cm = confusion_matrix(y_test,y_pred)\n",
        "print(cm)"
      ],
      "execution_count": 9,
      "outputs": [
        {
          "output_type": "stream",
          "text": [
            "[[40  8]\n",
            " [13 30]]\n"
          ],
          "name": "stdout"
        }
      ]
    },
    {
      "cell_type": "code",
      "metadata": {
        "id": "2bYuzRQJFsvz",
        "colab_type": "code",
        "colab": {}
      },
      "source": [
        ""
      ],
      "execution_count": 0,
      "outputs": []
    }
  ]
}